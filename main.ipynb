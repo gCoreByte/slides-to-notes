{
 "cells": [
  {
   "cell_type": "markdown",
   "metadata": {},
   "source": [
    "# Imports\n",
    "Please note that some imports are somewhat hacky to get to work and require some tinkering."
   ]
  },
  {
   "cell_type": "code",
   "execution_count": 1,
   "metadata": {
    "ExecuteTime": {
     "end_time": "2023-05-20T21:28:21.863267100Z",
     "start_time": "2023-05-20T21:28:21.850672600Z"
    }
   },
   "outputs": [],
   "source": [
    "from transformers import pipeline # Handles summarization\n",
    "import requests # Handles translation using the DeepL API\n",
    "from typing import Optional"
   ]
  },
  {
   "cell_type": "markdown",
   "metadata": {},
   "source": [
    "# Global variables and constants\n",
    "The DeepL API key is used for the translation API. If the API key becomes invalid for some reason, you can generate your own API key following the instructions at https://www.deepl.com/docs-api."
   ]
  },
  {
   "cell_type": "code",
   "execution_count": 2,
   "metadata": {
    "ExecuteTime": {
     "end_time": "2023-05-20T21:28:21.880322400Z",
     "start_time": "2023-05-20T21:28:21.858259300Z"
    }
   },
   "outputs": [],
   "source": [
    "# At this time of writing this (20.05.2023), the API had 450k characters still unused. Please keep this in mind and use the provided key responsibly.\n",
    "DEEPL_API_KEY = '898523e2-0911-71ea-8d45-3e60991d2130:fx'\n",
    "DEEPL_BASE_URL = 'https://api-free.deepl.com'"
   ]
  },
  {
   "cell_type": "markdown",
   "metadata": {},
   "source": [
    "# A short description of the summarization logic\n",
    "Originally, the plan was to simply summarize the provided text natively in the language it was provided. There are plenty of examples of this available, such as the open-source Reddit bot \"autotldr\", which has a similar function.\n",
    "\n",
    "Problems rose when it was determined that lots of slideshows have only bullet points, which isn't compatible with the style other similar projects use. Other projects use a pattern, where they extract the important sentences from the provided text without editing it. This falls apart with ours.\n",
    "\n",
    "To bypass this problem, the `SummarizerPipeline` from the huggingface `transformers` library is used. By translating the source text to English and then summarizing it, we can bypass many of the issues that arise from the traditional summarization methods. This also makes it trivial to add additional languages, in fact by default all DeepL supported languages should theoretically be able to be summarized properly. Keep in mind that this is untested functionality and no guarantees are provided."
   ]
  },
  {
   "cell_type": "code",
   "execution_count": 3,
   "metadata": {
    "ExecuteTime": {
     "end_time": "2023-05-20T21:28:21.889315Z",
     "start_time": "2023-05-20T21:28:21.877326200Z"
    }
   },
   "outputs": [
    {
     "ename": "TypeError",
     "evalue": "'type' object is not subscriptable",
     "output_type": "error",
     "traceback": [
      "\u001b[1;31m---------------------------------------------------------------------------\u001b[0m",
      "\u001b[1;31mTypeError\u001b[0m                                 Traceback (most recent call last)",
      "Cell \u001b[1;32mIn[3], line 1\u001b[0m\n\u001b[1;32m----> 1\u001b[0m \u001b[38;5;28;01mdef\u001b[39;00m \u001b[38;5;21mtranslate_text\u001b[39m(text: \u001b[38;5;28mstr\u001b[39m, target_lang: \u001b[38;5;28mstr\u001b[39m \u001b[38;5;241m=\u001b[39m\u001b[38;5;124m'\u001b[39m\u001b[38;5;124mEN-GB\u001b[39m\u001b[38;5;124m'\u001b[39m, source_lang: Optional[\u001b[38;5;28mstr\u001b[39m] \u001b[38;5;241m=\u001b[39m \u001b[38;5;28;01mNone\u001b[39;00m) \u001b[38;5;241m-\u001b[39m\u001b[38;5;241m>\u001b[39m \u001b[38;5;28;43mtuple\u001b[39;49m\u001b[43m[\u001b[49m\u001b[38;5;28;43mstr\u001b[39;49m\u001b[43m,\u001b[49m\u001b[43m \u001b[49m\u001b[38;5;28;43mstr\u001b[39;49m\u001b[43m]\u001b[49m:\n\u001b[0;32m      2\u001b[0m \u001b[38;5;250m    \u001b[39m\u001b[38;5;124;03m\"\"\"This function returns a tuple of (source_lang, translated_text).\"\"\"\u001b[39;00m\n\u001b[0;32m      3\u001b[0m     \u001b[38;5;66;03m# Build the URL for the translation service\u001b[39;00m\n",
      "\u001b[1;31mTypeError\u001b[0m: 'type' object is not subscriptable"
     ]
    }
   ],
   "source": [
    "def translate_text(text: str, target_lang: str ='EN-GB', source_lang: Optional[str] = None) -> tuple[str, str]:\n",
    "    \"\"\"This function returns a tuple of (source_lang, translated_text).\"\"\"\n",
    "    # Build the URL for the translation service\n",
    "    url = f\"{DEEPL_BASE_URL}/v2/translate\"\n",
    "    # Build the payload\n",
    "    payload = { 'text': [text], 'target_lang': target_lang }\n",
    "    # In case a manual source language is set, we should pass it along. Otherwise, DeepL will handle it for us\n",
    "    if source_lang is not None:\n",
    "        payload[source_lang] = source_lang\n",
    "    # Headers\n",
    "    headers = { 'Authorization': f\"DeepL-Auth-Key {DEEPL_API_KEY}\" }\n",
    "    # Send the request\n",
    "    response = requests.post(url, json=payload, headers=headers)\n",
    "    json_response = response.json()\n",
    "    # See the DeepL docs for the exact JSON format\n",
    "    return json_response['translations'][0]['detected_source_language'], json_response['translations'][0]['text']"
   ]
  },
  {
   "cell_type": "code",
   "execution_count": 8,
   "metadata": {
    "ExecuteTime": {
     "end_time": "2023-05-20T21:28:21.909315300Z",
     "start_time": "2023-05-20T21:28:21.890316400Z"
    }
   },
   "outputs": [],
   "source": [
    "def summarize_text(text: str, language: Optional[str] = None) -> str:\n",
    "    \"\"\"This functions returns a summary of the provided text. If the source language is known, pass it in the `language`\n",
    "        argument for a more accurate translation.\"\"\"\n",
    "    # Get the translated text with its corresponding language\n",
    "    #source_lang, translated_text = translate_text(text, source_lang=language)\n",
    "    source_lang, translated_text = 'est', \"Deep learning (or deep learning. (or deep. earming). Lecture 3, Artificial intelligence 14 santamhar 2022. GG DALL:E Myc. Ilection. Surprise me. Upload >I. A photo of Thanos waltzing with the scarlet witch. Generate. openai.com . Previous lecture:. Previous lecture:. machine learning: don't explain, just show. model with free parameters. examples = data o train/dev/test. examples in data are represented by features o num/nom, missing, conversion. Today's lecture:. Today lecture:. deep learning o neural networks. learning o end-to-end gradient descent. features o raw input / automatic features. examples o transformers, convolutional networks, etc.\"\n",
    "\n",
    "    # Get the amount of tokens in the new text. The max length will be 50% of that.\n",
    "    # This is a simple solution because we don't need to be 100% accurate.\n",
    "    token_count = len(translated_text.split(\" \"))\n",
    "    half_token_count = token_count // 2\n",
    "    # Summarize the text\n",
    "    summarizer = pipeline(\"summarization\", model=\"facebook/bart-large-cnn\")\n",
    "    summarized_text_en = summarizer(translated_text, min_length=10, max_length=half_token_count)[0][\"summary_text\"]\n",
    "    # Get back the original language\n",
    "    #_, returnable_text = translate_text(summarized_text_en, target_lang=source_lang, source_lang='EN')\n",
    "    return summarized_text_en\n"
   ]
  },
  {
   "cell_type": "code",
   "execution_count": 9,
   "metadata": {},
   "outputs": [
    {
     "name": "stdout",
     "output_type": "stream",
     "text": [
      "Lecture 3, Artificial intelligence 14 santamhar 2022. GG DALL:E Myc. Ilection.\n"
     ]
    }
   ],
   "source": [
    "txt = \"Süvaõpe (ehk sügavõpe. (ehk deep. earming). Loeng 3, Tehisintellekt 14 santamhar 2022. GG DALL:E Myc. Ilection. Surprise me. Upload >I. A photo of Thanos waltzing with the scarlet witch. Generate. openai.com. Eelmine loeng:. Eelmine loeng:. masinõpe: ära selgita, vaid näita. mudel vabade parameetritega. näited = andmed o train/dev/test. andmetes on näited esindatud tunnustega o num/nom, puuduvad, konverteerimine. Tänane loeng:. Tänane loeng:. süvaõpe o närvivõrgud. õppimine o end-to-end gradientlaskumine. tunnused o toorsisend / automaatsed tunnused. näited o transformerid, konvolutsioonivõrgud jne. \"\n",
    "print(summarize_text(txt, 'est'))"
   ]
  },
  {
   "cell_type": "code",
   "execution_count": null,
   "metadata": {},
   "outputs": [],
   "source": []
  }
 ],
 "metadata": {
  "kernelspec": {
   "display_name": "Python 3 (ipykernel)",
   "language": "python",
   "name": "python3"
  },
  "language_info": {
   "codemirror_mode": {
    "name": "ipython",
    "version": 3
   },
   "file_extension": ".py",
   "mimetype": "text/x-python",
   "name": "python",
   "nbconvert_exporter": "python",
   "pygments_lexer": "ipython3",
   "version": "3.8.10"
  }
 },
 "nbformat": 4,
 "nbformat_minor": 1
}
