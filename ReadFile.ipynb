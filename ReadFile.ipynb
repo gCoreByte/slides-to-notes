{
 "cells": [
  {
   "cell_type": "markdown",
   "id": "311e5e44",
   "metadata": {},
   "source": [
    "# Extract text and images from pdf"
   ]
  },
  {
   "cell_type": "markdown",
   "id": "a8f7ee72",
   "metadata": {},
   "source": [
    "<b>Imports</b> \n",
    "\n",
    "To use pytesseract (on Windows): <br>\n",
    "conda install -c conda-forge pytesseract <br>\n",
    "conda install -c conda-forge tesseract <br>\n",
    "\n",
    " <br>\n",
    "\n",
    "To use pdf2image: <br>\n",
    "conda install -c conda-forge pdf2image <br>\n",
    "conda install -c conda-forge poppler <br>"
   ]
  },
  {
   "cell_type": "code",
   "execution_count": 1,
   "id": "3ddf8d18",
   "metadata": {},
   "outputs": [],
   "source": [
    "#new\n",
    "import pytesseract\n",
    "from pdf2image import convert_from_path\n",
    "\n",
    "#should already have\n",
    "from PIL import Image\n",
    "import numpy as np\n",
    "import cv2\n",
    "import matplotlib.pyplot as plt\n",
    "import re\n",
    "\n",
    "import os"
   ]
  },
  {
   "cell_type": "markdown",
   "id": "a1a41e6c",
   "metadata": {},
   "source": [
    "Here, the path to tesseract and tessdata need to be specified for the program to work."
   ]
  },
  {
   "cell_type": "code",
   "execution_count": 2,
   "id": "97a116f0",
   "metadata": {},
   "outputs": [],
   "source": [
    "pytesseract.pytesseract.tesseract_cmd = r'C:\\Users\\annut\\miniconda3\\envs\\Tehisintellekt\\Library\\bin\\tesseract.exe'\n",
    "os.environ['TESSDATA_PREFIX'] = r'C:\\Users\\annut\\miniconda3\\envs\\Tehisintellekt\\share\\tessdata/'"
   ]
  },
  {
   "cell_type": "markdown",
   "id": "d654700d",
   "metadata": {},
   "source": [
    "Some parameters need to pe specified in order to use the program and improve its quality.\n",
    "\n",
    "<b>path</b> - this is where the found images will be saved\n",
    "\n",
    "<b>filename</b> - location + name of the pdf file\n",
    "\n",
    "<b>language</b> - the language in which the pdf is in (est for Estonian, eng for English and so on: https://www.labnol.org/code/19899-google-translate-languages)\n",
    "\n",
    "<b>page_numbers</b> - whether the pdf pages have page numbers at the end (True) or not (False)\n",
    "\n",
    "<b>skip_images_without_text</b> - whether the program should skip images that are on pages without any text (True) or not (False)\n",
    "\n",
    "<b>skip_slides</b> - slide numbers to skip (example: \"1-3, 5\", slides 1, 2, 3 and 5 will be skipped)"
   ]
  },
  {
   "cell_type": "code",
   "execution_count": 3,
   "id": "cc7c6108",
   "metadata": {},
   "outputs": [],
   "source": [
    "path = \"images/\"\n",
    "filename = 'example_est.pdf'\n",
    "language = 'est'\n",
    "page_numbers = True\n",
    "skip_images_without_text = True\n",
    "skip_slides = \"1-3, 27-38\""
   ]
  },
  {
   "cell_type": "code",
   "execution_count": 4,
   "id": "672da660",
   "metadata": {},
   "outputs": [],
   "source": [
    "#source: https://stackoverflow.com/questions/57249273/how-to-detect-paragraphs-in-a-text-document-image-for-a-non-consistent-text-stru\n",
    "def getParagraphs(image):\n",
    "    paragraphs = []\n",
    "    image_np = np.array(image)\n",
    "    \n",
    "    gray = cv2.cvtColor(image_np, cv2.COLOR_BGR2GRAY)\n",
    "    blur = cv2.GaussianBlur(gray, (7,7), 0)\n",
    "    thresh = cv2.threshold(blur, 0, 255, cv2.THRESH_BINARY_INV + cv2.THRESH_OTSU)[1]\n",
    "\n",
    "    kernel = cv2.getStructuringElement(cv2.MORPH_RECT, (5,5))\n",
    "    dilate = cv2.dilate(thresh, kernel, iterations=12)\n",
    "\n",
    "    cnts = cv2.findContours(dilate, cv2.RETR_EXTERNAL, cv2.CHAIN_APPROX_SIMPLE)\n",
    "    cnts = cnts[0] if len(cnts) == 2 else cnts[1]\n",
    "\n",
    "    for c in cnts:\n",
    "        x,y,w,h = cv2.boundingRect(c)\n",
    "        rect = [x, y, w, h]\n",
    "        paragraphs.append(rect)\n",
    "    \n",
    "    return paragraphs\n",
    "\n",
    "\n",
    "def getContent(filename, lang, skipped):\n",
    "    text = \"\"\n",
    "    pictures = []\n",
    "    picture_count = 0\n",
    "    \n",
    "    images = convert_from_path(filename)\n",
    "    pattern = r\"[a-zöüõäA-ZÖÄÜÕ][a-zöüõäA-ZÖÄÜÕ]+[,\\/-:?!]*\"\n",
    "    \n",
    "    for j in range(len(images)):\n",
    "        if j+1 not in skipped:\n",
    "            image = images[j]\n",
    "            paragraphs = getParagraphs(image)\n",
    "\n",
    "            for i in range(len(paragraphs)-1, -1, -1):\n",
    "\n",
    "                if i == 0 and page_numbers:\n",
    "                        break\n",
    "\n",
    "                p = paragraphs[i]\n",
    "                x, y, w, h = p[0], p[1], p[2], p[3]\n",
    "                segment = image.crop((x, y, x + w, y + h))\n",
    "\n",
    "                unique_colors = set(segment.getdata())\n",
    "\n",
    "                if len(unique_colors) > 15000:\n",
    "                    if len(paragraphs) == 1 and skip_images_without_text:\n",
    "                        break\n",
    "                    else:\n",
    "                        picturefilename = \"Picture_\" + str(picture_count) + \".png\"\n",
    "                        cv2.imwrite(path + picturefilename, np.array(segment))\n",
    "                        text += \"(Vaata: Pilt \" + str(picture_count) + \") \"\n",
    "                        picture_count +=1\n",
    "                        pictures.append(picturefilename)\n",
    "\n",
    "                else: \n",
    "                    extracted_text = pytesseract.image_to_string(segment, lang=lang)\n",
    "                    sentence = extracted_text.strip().replace('\\n', \" \")\n",
    "                    raw_text = re.findall(pattern, sentence)\n",
    "\n",
    "                    if len(raw_text) > 0:\n",
    "                        text += ' '.join(raw_text) + \". \"                        \n",
    "    return text, pictures\n",
    "\n",
    "def getSkippedSlides(skip):\n",
    "    skipped = []\n",
    "    if skip == \"\":\n",
    "        return skipped\n",
    "    slides = skip.replace(\" \", \"\").split(\",\")\n",
    "    \n",
    "    for slide in slides:\n",
    "        if \"-\" in slide:\n",
    "            no = slide.split(\"-\")\n",
    "            for i in range(int(no[0]), int(no[1])+1):\n",
    "                skipped.append(i)\n",
    "        else:\n",
    "            skipped.append(int(slide))\n",
    "    return skipped\n",
    "    "
   ]
  },
  {
   "cell_type": "code",
   "execution_count": 5,
   "id": "9a427fb3",
   "metadata": {},
   "outputs": [
    {
     "name": "stdout",
     "output_type": "stream",
     "text": [
      "Tänane loeng:. süvaõpe närvivõrgud. õppimine end to end gradientlaskumine. tunnused toorsisend automaatsed tunnused. näited transformerid, konvolutsioonivõrgud jne. Lineaarregressioon. Logistiline regressioon. Logistiline regressioon mitme väljundiga. Ehk:. ras Logistiline regressioon: õppimine. yet lm jana JP. Ekstreemumite leidmine. Ekstreemumite leidmine. oe võrrandi lahendused annavad meile väärtusi, mis annavad funktsiooni ekstreemumpunkte. kuid see võrrand ei pruugi olla analüütiliselt lahendatav!. Gradientlaskumine. Gradientlaskumine. oe võrrandi lahendused annavad meile väärtusi, mis annavad funktsiooni ekstreemumpunkte. kuid see võrrand ei pruugi olla analüütiliselt lahendatav!. omaette aga näitab meile seda, mis suunas ning kui kiiresti kasvab funktsioon punktis. Gradientlaskumine. Gradientlaskumine. oe võrrandi lahendused annavad meile väärtusi, mis annavad funktsiooni ekstreemumpunkte. kuid see võrrand ei pruugi olla analüütiliselt lahendatav!. omaette aga näitab meile seda, mis suunas ning kui kiiresti kasvab funktsioon punktis. võime liikuda sinna iteratiivselt, kasutades osatuletise väärtusi igas uues punktis, et valida liikumissuunda ja kiirust:. Ühemõõtmeline gradient osatuletis. (Vaata: Pilt 0) Gradientlaskumine. Gradientlaskumine. (Vaata: Pilt 1) (Vaata: Pilt 2) Nt. Andrew Ng ML class. Gradientlaskumine. Gradientlaskumine. Veafunktsiooni mitmemõõtmeline gradient:. VE. Gradientlaskumine: algoritm õppimiskiirus on väike arv, nt. alusta parameetrite rnd algväärtusega rnw. leia veamäära tuletiste väärtusi punktis. iga jaoks:. VE. korda koondumiseni. ras Gradientlaskumine log reg jaoks. Kuidas leida parameetrid logistilise regressiooni lahendamiseks:. Treeningandmed yD yD alustame suvalisest st: rnd. alustame suvalisest st:. kordame kuni väsimuseni:. Im. ras Gradientlaskumine log reg jaoks. Kuidas leida parameetrid logistilise regressiooni lahendamiseks:. Treeningandmed yD yD alustame suvalisest st: rnd. alustame suvalisest st:. kordame kuni väsimuseni:. JO Ilm. Asjakohane gradientlaskumise juures: õppimiskiirus. Õppimiskiirus liiga väike: õppimine võtab liiga kaua. liiga suur: Õppimine on ebastabiilne ja ei pruugi koonduda. Asjakohane gradientlaskumise juures: local optima. Üks suur probleem gradientlaskumisel: lokaalsed miinimumid. (Vaata: Pilt 3) Objective: Lower the Better. Otsesuunatud tehisnärvivõrgud feed forward neural networks. Otsesuunatud tehisnärvivõrgud feed forward neural networks. peitkiht seisund väljund. Otsesuunatud tehisnärvivõrgud feed forward neural networks. peitkiht seisund väljund. Output Hidden state Input. Otsesuunatud tehisnärvivõrgud feed forward neural networks. Õppimine: tagasilevi backpropagation gradientlaskumine vähimruutude meetodiga. Output Hidden state Input. PP. UKU UY OE/0. Üldisemalt. Üldisemalt. Aktiveerimisfunktsioon enne: ei pea olema ainult logistiline, teisi: tanh, ReLU, jt. Üldisemalt. Üldisemalt. Aktiveerimisfunktsioon enne: ei pea olema ainult logistiline, teisi: tanh, ReLU, jt. Arvutuskäik computation graph mida tehakse sisendi jm parameetritega, et arvutada väljundit. Üldisemalt. Üldisemalt. Aktiveerimisfunktsioon enne: ei pea olema ainult logistiline, teisi: tanh, ReLU, jt. Arvutuskäik computation graph mida tehakse sisendi jm parameetritega, et arvutada väljundit. Lineaarsus. Lineaarsus. pööramine, väänamine, nihutamine, peegeldamine lineaarteisendused neid saab kõiki teha maatrikskorrutise abil. teised mittelineaarsed teisendused neid ei saa maatrikskorrutise abil teha. vahe lineaarsete kombo on lineaarne, ehk kombo võimsus keerukus ei kasva. Tehisnärvivõrkude jõu allikad. automaatsed tunnused! iga neuron kiht on nagu logistiline regressioon väljundkihi sisendiks on peitkihi väljund. Mida see tähendab:. õigete tunnuste ekstraheerimine nagu tavalises masinõppes ei ole enam nii oluline. Tehisnärvivõrkude jõu allikad. siirdeõpe alusta õppimist ühe ülesandega jätka õppimist terve mudeli või selle osaga ning õpeta talle teist ülesannet kui ülesanded on sarnased, siis üks aitab teist! nt kui ülesanne on üldine palju andmeid ning spetsiifilisem vähe andmeid eeltreenimine ja peenhäälestamine pretraining fine tuning. Tehisnärvivõrkude jõu allikad. väga head pidevate funktsioonide lähendajad Universaalse lähendamise teoreem Cybenko Hornik. Kas see tähendab, et tehisnärvivõrgud on kõikvõimsad ja varsti vallutavad maailma?. Kas see tähendab, et tehisnärvivõrgud on kõikvõimsad ja varsti vallutavad maailma?. (Vaata: Pilt 4) Praktikas:. Praktikas:. Ise ei pea osatuletisi leidma!. PyTorch/ TensorFlow/ jne teevad seda automaatselt:. teegi käsud muutujate lisamaks: jne defineerime arvutuskäiku st ni kasutades. täidame ja andmetega laseme teegil optimeerida valime veafunktsiooni, õppimisalgoritmi, muid parameetreid. See toetab mistahes hullu arvutuskäiku, kuid õppimine võib osutuda raskeks. Konvolutsioonivõrk CNN/ convolutional neural network ras. Pooling. Fully Fully Connected Connected. (Vaata: Pilt 5) Convolution. Konvolutsioonivõrk CNN/ convolutional neural network ras. (Vaata: Pilt 6) Convolution. Pooling. Fully Fully Connected Connected. Output Predictions. aare kahe aa Layer EAT kiht Parts combine toform objects Layer AS IA taver1. (Vaata: Pilt 7) https:// deeplearning4 org/. Rekurrentsed tehisnärvivõrgud RNN/ recurrent neural networks. peitkiht väljund. Output Hidden state Input Prev hidden state. Rekurrentsete võrkude Tahti rullimine unwrapping. peitkiht väljund. LSTM: pikk lühiajaline mälu long short term memory. He oy Wpoi Uphi by ti Witt Uihi ot Woxi Üoht ct ft üi Uchi be hi Ct. Output. Mida oskavad närvivõrgud: masintõlge. translate ut ee translate google com masintolge ee translate yandex com bing com/ translator. (Vaata: Pilt 8) This is our We embed input sentence each word. (Vaata: Pilt 9) Calculate attention Concatenate the resulting matrices, using the resulting then multiply with weight matrix to matrices produce the output of the layer. Thinking Machines. In all encoders other than we don need embedding We start directly with the output of the encoder right below this one. (Vaata: Pilt 10) ese. (Vaata: Pilt 11) (Vaata: Pilt 12) Decoding time step:. OUTPUT. (Vaata: Pilt 13) EMBEDDINGS. PREVIOUS OUTPUTS. Etudiant. suis. Je. INPUT. Mida oskavad närvivõrgud: kõnesüntees. neurokone ee. Mida oskavad närvivõrgud: pildi kirjeldamine loomulikus keeles. (Vaata: Pilt 14) https:// arxiv org/ abs/1411. Mida oskavad närvivõrgud: mustvalge pildi värvide taastamine. (Vaata: Pilt 15) http:// machinelearningmastery com/ ins pirational applications deep learning/. Mida oskavad närvivõrgud: juhendamata piltide teisendamine, CycleGAN. Mida oskavad närvivõrgud: mängude mängimine nt AlphaGO nt Breakout nt teised Atari mängud. (Vaata: Pilt 16) Mida oskavad närvivõrgud: pildi genereerimine kirjelduse põhjal Dall:. DALL: Myecollection. Surprise me Upload. Edit the detailed description. Estonian professor teaching AI to excited students in cartoon style. Generate. (Vaata: Pilt 17) openai com. GB DALL: Mycollection. Surprise me Upload. dit the. Estonian professor teaching artificial intelligence to bored students in oil painting style. Generate. (Vaata: Pilt 18) GB DALL: Mycollection. Surprise me Upload. dit the. Estonian professor teaching AI to unsuspecting students in photorealistic style. Generate. (Vaata: Pilt 19) End to end õppimine. Sisendiks on andmed toorkujul Väljundiks on soovitud väljund Kõik vahepealsed esitused, vektorid, teisendused jms on tuletatud automaatselt. ras Tehisnärvivõrgud tõenäosused. Kui ideaalne väljund on hot nt sõnad, või väljundiklassid vs all. Siis kasutatakse väljundis nn SoftMax kihti: neuronite väljund. lõplik kihi väljund on: exp exp. ras Tehisnärvivõrgud tõenäosused. Kui ideaalne väljund on hot nt sõnad, või väljundiklassid vs all. Siis kasutatakse väljundis nn SoftMax kihti: neuronite väljund. lõplik kihi väljund on: exp exp. Kokkuvõte. Kokkuvõte. Gradientlaskumine on äge!. Tehisnärvivõrgud on toredad!. Teie olete lahedad!. Kokkuvõte. Kokkuvõte. edasilevi konvolutisooni rekurrentsed närvivõrgud, GAN jne. õpivad reeglina gradientlaskumise klassi algoritmide abil. mistahes arvutuskäik. tuletised automaatsed. lõpuks on sageli väljundiks tõenäosusjaotuse hinnang SoftMax. Küsimused. Küsimused. Kas tehisnärvivõrkude õpetamisel tagasilevi algoritmiga võib tekkida probleeme lokaalse miinimumiga?. Põhjendage, miks deep learning närvivõrgud pole siiski AGI. \n"
     ]
    }
   ],
   "source": [
    "skipped = getSkippedSlides(skip_slides)\n",
    "text, pictures = getContent(filename, language, skipped)\n",
    "print(text)"
   ]
  }
 ],
 "metadata": {
  "kernelspec": {
   "display_name": "Python 3 (ipykernel)",
   "language": "python",
   "name": "python3"
  },
  "language_info": {
   "codemirror_mode": {
    "name": "ipython",
    "version": 3
   },
   "file_extension": ".py",
   "mimetype": "text/x-python",
   "name": "python",
   "nbconvert_exporter": "python",
   "pygments_lexer": "ipython3",
   "version": "3.8.10"
  }
 },
 "nbformat": 4,
 "nbformat_minor": 5
}
