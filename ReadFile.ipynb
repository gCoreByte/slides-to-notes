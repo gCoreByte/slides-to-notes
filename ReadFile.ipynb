{
 "cells": [
  {
   "cell_type": "markdown",
   "id": "311e5e44",
   "metadata": {},
   "source": [
    "# Extract text and images from pdf"
   ]
  },
  {
   "cell_type": "markdown",
   "id": "a8f7ee72",
   "metadata": {},
   "source": [
    "<b>Imports</b> \n",
    "\n",
    "To use pytesseract (on Windows): <br>\n",
    "conda install -c conda-forge pytesseract <br>\n",
    "conda install -c conda-forge tesseract <br>\n",
    "\n",
    " <br>\n",
    "\n",
    "To use pdf2image: <br>\n",
    "conda install -c conda-forge pdf2image <br>\n",
    "conda install -c conda-forge poppler <br>"
   ]
  },
  {
   "cell_type": "code",
   "execution_count": 1,
   "id": "3ddf8d18",
   "metadata": {},
   "outputs": [],
   "source": [
    "#new\n",
    "import pytesseract\n",
    "from pdf2image import convert_from_path\n",
    "\n",
    "#should already have\n",
    "from PIL import Image\n",
    "import numpy as np\n",
    "import cv2\n",
    "import matplotlib.pyplot as plt\n",
    "import re\n",
    "\n",
    "import os"
   ]
  },
  {
   "cell_type": "markdown",
   "id": "65e15063",
   "metadata": {},
   "source": [
    "Here, the path to tesseract and tessdata need to be specified for the program to work."
   ]
  },
  {
   "cell_type": "code",
   "execution_count": 2,
   "id": "97a116f0",
   "metadata": {},
   "outputs": [],
   "source": [
    "pytesseract.pytesseract.tesseract_cmd = r'C:\\Users\\annut\\miniconda3\\envs\\Tehisintellekt\\Library\\bin\\tesseract.exe'\n",
    "os.environ['TESSDATA_PREFIX'] = r'C:\\Users\\annut\\miniconda3\\envs\\Tehisintellekt\\share\\tessdata/'"
   ]
  },
  {
   "cell_type": "markdown",
   "id": "18224f66",
   "metadata": {},
   "source": [
    "Some parameters need to pe specified in order to use the program and improve its quality.\n",
    "\n",
    "<b>path</b> - this is where the found images will be saved <br>\n",
    "<b>filename</b> - location + name of the pdf file<br>\n",
    "<b>language</b> - the language in which the pdf is in (est for Estonian, eng for English and so on: https://www.labnol.org/code/19899-google-translate-languages)<br>\n",
    "<b>page_numbers</b> - whether the pdf pages have page numbers at the end (True) or not (False)<br>\n",
    "<b>skip_images_without_text</b> - whether the program should skip images that are on pages without any text (True) or not (False)<br>\n",
    "<b>skip_slides</b> - slide numbers to skip (example: \"1-3, 5\", slides 1, 2, 3 and 5 will be skipped)"
   ]
  },
  {
   "cell_type": "code",
   "execution_count": 3,
   "id": "cc7c6108",
   "metadata": {},
   "outputs": [],
   "source": [
    "path = \"images/\"\n",
    "filename = 'Universum.pdf'\n",
    "language = 'est'\n",
    "page_numbers = True\n",
    "skip_images_without_text = True\n",
    "skip_slides = \"\""
   ]
  },
  {
   "cell_type": "code",
   "execution_count": 4,
   "id": "672da660",
   "metadata": {},
   "outputs": [],
   "source": [
    "#source: https://stackoverflow.com/questions/57249273/how-to-detect-paragraphs-in-a-text-document-image-for-a-non-consistent-text-stru\n",
    "def getParagraphs(image):\n",
    "    paragraphs = []\n",
    "    image_np = np.array(image)\n",
    "    \n",
    "    gray = cv2.cvtColor(image_np, cv2.COLOR_BGR2GRAY)\n",
    "    blur = cv2.GaussianBlur(gray, (7,7), 0)\n",
    "    thresh = cv2.threshold(blur, 0, 255, cv2.THRESH_BINARY_INV + cv2.THRESH_OTSU)[1]\n",
    "\n",
    "    kernel = cv2.getStructuringElement(cv2.MORPH_RECT, (5,5))\n",
    "    dilate = cv2.dilate(thresh, kernel, iterations=12)\n",
    "\n",
    "    cnts = cv2.findContours(dilate, cv2.RETR_EXTERNAL, cv2.CHAIN_APPROX_SIMPLE)\n",
    "    cnts = cnts[0] if len(cnts) == 2 else cnts[1]\n",
    "\n",
    "    for c in cnts:\n",
    "        x,y,w,h = cv2.boundingRect(c)\n",
    "        rect = [x, y, w, h]\n",
    "        paragraphs.append(rect)\n",
    "    \n",
    "    return paragraphs\n",
    "\n",
    "\n",
    "def getContent(filename, lang, skipped):\n",
    "    text = \"\"\n",
    "    pictures = []\n",
    "    picture_count = 0\n",
    "    \n",
    "    images = convert_from_path(filename)\n",
    "    pattern = r\"[a-zöüõäA-ZÖÄÜÕ][a-zöüõäA-ZÖÄÜÕ]+[,\\/-:;?!]*\"\n",
    "    \n",
    "    for j in range(len(images)):\n",
    "        if j+1 not in skipped:\n",
    "            image = images[j]\n",
    "            paragraphs = getParagraphs(image)\n",
    "\n",
    "            for i in range(len(paragraphs)-1, -1, -1):\n",
    "\n",
    "                if i == 0 and page_numbers:\n",
    "                        break\n",
    "\n",
    "                p = paragraphs[i]\n",
    "                x, y, w, h = p[0], p[1], p[2], p[3]\n",
    "                segment = image.crop((x, y, x + w, y + h))\n",
    "\n",
    "                unique_colors = set(segment.getdata())\n",
    "\n",
    "                if len(unique_colors) > 15000:\n",
    "                    if len(paragraphs) == 1 and skip_images_without_text:\n",
    "                        break\n",
    "                    else:\n",
    "                        picturefilename = \"Picture_\" + str(picture_count) + \".png\"\n",
    "                        cv2.imwrite(path + picturefilename, np.array(segment))\n",
    "                        text += \"(Vaata: Pilt \" + str(picture_count) + \") \"\n",
    "                        picture_count +=1\n",
    "                        pictures.append(picturefilename)\n",
    "\n",
    "                else: \n",
    "                    extracted_text = pytesseract.image_to_string(segment, lang=lang)\n",
    "                    sentence = extracted_text.strip().replace('\\n', \" \")\n",
    "                    raw_text = re.findall(pattern, sentence)\n",
    "\n",
    "                    if len(raw_text) > 0:\n",
    "                        text += ' '.join(raw_text).replace(\";\", \"\").replace(\":\", \"\").capitalize() + \". \"                        \n",
    "    return text, pictures\n",
    "\n",
    "def getSkippedSlides(skip):\n",
    "    skipped = []\n",
    "    if skip == \"\":\n",
    "        return skipped\n",
    "    slides = skip.replace(\" \", \"\").split(\",\")\n",
    "    \n",
    "    for slide in slides:\n",
    "        if \"-\" in slide:\n",
    "            no = slide.split(\"-\")\n",
    "            for i in range(int(no[0]), int(no[1])+1):\n",
    "                skipped.append(i)\n",
    "        else:\n",
    "            skipped.append(int(slide))\n",
    "    return skipped\n",
    "    "
   ]
  },
  {
   "cell_type": "code",
   "execution_count": 5,
   "id": "9a427fb3",
   "metadata": {},
   "outputs": [
    {
     "name": "stdout",
     "output_type": "stream",
     "text": [
      "Päikesesüsteem. (Vaata: Pilt 0) Vanad kreeklased teadsid lisaks päikesele, kuule ja kinnistähtedele viit planeeti aävnteg dotepeg rändavad tähed või lihtsalt rmhavfrai hulkurid merkuur, veenus, marss, jupiter, saturn, samuti komeete koufitng pikajuukselised tähed ja meteoore uer wpa taevanähtus, kõrgel õhus. Kõige keskpunktiks oli maa. Mikotaj kopernik kõik tiirlemised toimuvad ümber päikese. Galileo galilei esimesed teleskoobivaatlused ka jupiteri ümber tiirlevad kuud veenusel esinevad faasid nagu kuul kuu ja päikese pind ei ole ideaalne. Arusaamine, et on olemas mingi päikese ümber koonduvate taevakehade süsteem, hakkas kujunema sajandil. Aastal oli marss maale erakordselt lähedal ca miljonit km ehk au. Itaalia astronoom giovanni schiaparelli arvas marsil nägevat vagusid, nõgusid või jõesänge, mida ta nimetas canali. Inglise keelde tõlgiti see kui canals õigem oleks olnud channels või grooves insismgat. Tnd ne. Usa ärimees percival lowell rajas arizona osariigis flagstaffis oma eraobservatooriumi marsi uurimiseks. (Vaata: Pilt 1) Päikesesüsteem, nagu teda tänapäeval tunneme. (Vaata: Pilt 2) Päike. Täht spektriklassist mass kg mg raadius km ry heledus ehk kiirgusvõimsus. Nähtava pinna ehk fotosfääri temperatuur temperatuur tuumas ca miljonit. (Vaata: Pilt 3) Päikese peamised koostisosad tuum, kiirgustsoon, konvektsiooni tsoon, atmosfäär fotosfäär, kromosfäär ja kroon. Päike on tavaline täht vähemalt miljardi hulgas, mis moodustavad linnutee galaktika. Umbes linnutee tähtedest on päikesest jahedamad ja väiksema heledusega punased kääbused. (Vaata: Pilt 4) Päike ja päikesesüsteem liigub ümber linnutee keskme kiirusega ca km/. Kui vaadata maa või päikese põhjapooluse poolt, tiirlevad kõik planeedid ümber päikese vastu kellaosuti liikumise suunda, enamik planeete ka pöörlevad ümber oma telje samas suunas. (Vaata: Pilt 5) Maa orbiidi tasandit nimetatakse ekliptikaks. Nurk. Merkuuri orbiidi tasand erineb ekliptikast kõige rohkem kraadi. Väikekehad kääbusplaneedid, asteroidid, komeedid, meteoroidid võivad tiirelda hoopis erinevates tasandites. Päikesesüsteemi planeedid jagunevad kahte klassi maataolised ingl terrestrial id terra ehk maa tüüpi ja hiidplaneedid ehk jupiteri tüüpi ingl jovian id jove jupiteri paralleelnimi. Maataolised planeedid on lähestikku päikese külje all au hiidplaneedid on üksteisest ja päikesest kaugel, au. Maataolised planeedid on väikesed, tihedad, koosnevad kivimitest ja metallidest hiidplaneedid on suured, väikese tihedusega, peamiselt. Maataolistel planeetidel on tahke pind, hiidplaneetidel mitte. Maataolistel planeetidel on magnetväli nõrk või puudub hiidplaneetidel on tugev magnetväli. Maataolised planeedid pöörlevad suhteliselt aeglaselt, hiidplaneedid kiiresti. Maataolistel planeetidel on kokku vaid kuud, hiidplaneetidel on igaühel mitukümmend või mituteist kuud. Maataolised planeedid ei ole ka omavahel päris sarnased. Kõigil on atmosfäärid, kuid väga erinevad merkuuril praktiliselt vaakum, veenusel korda tihedam kui maal. Ainult maal leidub atmosfääris vaba hapnikku ja pinnal vedelat vett. Pinnaehitused on väga erinevad merkuuril rohkete kraatritega kaetud muutumatu pind nagu ka kuul veenusel aktiivne vulkaaniline tegevus. Pöörlemiskiirused ümber oma telje on väga erinevad maa ja marss teevad ühe täispöörde ca tunniga, merkuur päevaga, veenus päevaga ja vastupidi orbitaalse liikumise suunale. Maal ja marsil on kuud, merkuuril ja veenusel mitte. Merkuur id mercurius kaupmeeste, rahanduse, rändurite jne jumal vana roomas. Merkuur. Läbimõõt km maa oma mass kg maa oma keskmine tihedus cm? kaugus päikesest au orbiidi ekstsentrilisus. Tiirlemisperiood päeva pöörlemisperiood päeva resonants pöörlemise ja tiirlemise vahel merkuuri pinnal oleva vaatleja jaoks on ühes päevas kaks aastat. Temperatuur ekvaatoril poolustel. Min. Keskm. Max. (Vaata: Pilt 6) Veenus id venus armastuse ja ilu jumalanna vana roomas. Veenus. Läbimõõt km maa oma mass kg maa oma keskmine tihedus cm?. Kaugus päikesest au orbiidi ekstsentrilisus. Tiirlemisperiood päeva pöörlemisperiood päeva. Keskmine temperatuur. Atmosfäär rõhk pinnal mpa korda suurem kui maal koostises co, ar, co jm. (Vaata: Pilt 7) Maa, id terra, ingl earth, sks die erde, kr. Maa. Läbimõõt keskm km mass kg keskmine tihedus cm?. Kaugus päikesest au orbiidi ekstsentrilisus. Tiirlemisperiood päeva pöörlemisperiood tundi. Temperatuur. Min. Keskm max. Atmosfäär ar co, keskm. Maa struktuur koor, vahevöö, välistuum, sisetuum. Magnetväli kaitseb maad päikesetuule ja kosmiliste kiirte elektriliselt laetud osakeste eest. (Vaata: Pilt 8) Kuu ingl moon vana inglise mõna proto germaani mõ8 nö kuu kui ajavahemik id luna, kr oghfjvn selõne. Läbimõõt km maa oma mass kg maa oma keskmine tihedus cm?. (Vaata: Pilt 9) Tiirlemisperiood päeva pöörlemisperiood päeva. Temperatuur ekvaatoril keskm poolustel keskm. (Vaata: Pilt 10) (Vaata: Pilt 11) Marss id mars vana rooma sõjajumal. Marss. Läbimõõt km maa oma mass kg maa oma keskmine tihedus cm?. Kaugus päikesest au keskm au orbiidi ekstsentrilisus. Tiirlemisperiood päeva pöörlemisperiood päeva. Temperatuur min. Keskm. Max. Atmosfäär rõhk pinnal keskm kpa ca maa omast koostis co, ar co. (Vaata: Pilt 12) (Vaata: Pilt 13) Phobos ja deimos hirm ja õudus. Hiidplaneedid. Väikese keskmise tihedusega, ulatuslikud atmosfäärid peamiselt he pöörlevad kiiresti tugev magnetväli palju kuusid kõigil rõngad, aga saturnil kõige silmatorkavamad. Jupiter ja saturn omavahel sarnased gaasihiiud uraan ja neptuun omavahel sarnased jäähiiud. Jupiter id üpiter vana rooma peajumal, taevajumal ka jove. Jupiter. Läbimõõt km maa oma mass kg maa oma korda rohkem kui kõigi teiste planeetide mass kokku keskmine tihedus cm?. Kaugus päikesest au keskm au orbiidi ekstsentrilisus. Tiirlemisperiood päeva pöörlemisperiood. Temperatuur maa õhurõhu juures keskm maa õhurõhu juures keskm. Atmosfäär rõhk pinnal keskm kpa ca maa omast koostis he ch, nh3 hd, hg, ho. Jupiteri siseehitus. Jupiteri suur punane laik great red spot ca km. (Vaata: Pilt 14) Galilei kuud avastatud. (Vaata: Pilt 15) Ganymedes. Callisto. Europa. Aktiivsed vulkaanid. Vedel vesi jää all. Päikesesüsteemi suurim kuu, km. Saturn id saturn vana rooma põllumajanduse, viljakuse, külluse jumal. Saturn. Läbimõõt km maa oma mass kg maa oma keskmine tihedus cm? vesi cm?!. Kaugus päikesest au keskm au orbiidi ekstsentrilisus. Tiirlemisperiood päeva pöörlemisperiood. Temperatuur maa õhurõhu juures keskm maa õhurõhu juures keskm. Atmosfäär rõhk pinnal keskm kpa koostis he ch, nh3 hd, hg. Saturni siseehitus ja rõngad. Automaatjaama cassini viimane foto saturni perekonnast, avaldatud novembril pärast seda, kui cassini oli septembril sisenenud saturni atmosfääri. (Vaata: Pilt 16) Uraan id uranus kr oüpavõg taeva jumal. Esimene teleskoobiajastul avastatud planeet, märts. William herschel. Uraan. Läbimõõt km maa oma mass kg maa oma keskmine tihedus cm?. Kaugus päikesest au keskm au orbiidi ekstsentrilisus. Tiirlemisperiood päeva pöörlemisperiood. Keskm. Temperatuur. Atmosfäär rõhk muutub ca mpa kuni upa koostis he ch, jääd nh, nh, sh. Uraan rõngaste ja kuudega. Neptuun id neptünus vana rooma merejumal. Avastatud septembril. (Vaata: Pilt 17) (Vaata: Pilt 18) Neptuun. Läbimõõt km maa oma mass kg maa oma keskmine tihedus cm?. Kaugus päikesest au keskm au orbiidi ekstsentrilisus. Tiirlemisperiood päeva pöörlemisperiood. Temperatuur maa õhurõhu juures keskm maa õhurõhu juures keskm. Atmosfäär rõhk muutub suurtes piirides koostis he ch, zt jääd nm, nh, sh. (Vaata: Pilt 19) Triton tiirleb ümber neptuuni selle pöörlemisele vastassuunas. Pluuto id plütõ, kr aoürwv allilma ehk hadese jumal klassikalises mütoloogias. Clyde tombaugh avastas pluuto veebruaril observatooriumis, mille percival lowell oli asutanud marsi kanalite uurimiseks. Pluuto. Läbimõõt km mass kg mae keskmine tihedus cm?. Kaugus päikesest au keskm au tiirlemisperiood aastat päeva orbiidi ekstsentrilisus kalle ekliptika suhtes. Kaaslane charon. (Vaata: Pilt 20) Teised kaaslased. (Vaata: Pilt 21) Kääbusplaneedid, ingl dwarf planets. Aastal kasutusele võetud termin, tähistab taevakehasid, mis. Tiirlevad ümber tähe päikese on piisavalt massiivsed, et olla gravitatsiooni mõjul hüdrostaatilises tasakaalus enam vähem kerakujulised ei ole suutnud puhastada oma lähiümbrust väiksematest kehadest. Praegu ametlikus nimekirjas kääbusplaneeti. Ceres pluuto haumea makemake eris. Avastatud. Kääbuspil. Mass ca suurem kui pluutol. Neptuuni orbiidist kaugemal leidub tõenäoliselt sadu taevakehi, mis võivad osutuda kääbusplaneetideks, mõned neist suuremad kui pluuto. Väiksemaid ca km mõõdus võib leiduda üle. Tno trans neptunian objects. Kuiperi vöö au. Hajusketas au. Irdobjektid detached objects au. Kuju kuu fiona ji tcyn2 fa an eitan ki is cr, ait äike ki ge sedna na amaan distant trans neptunian objects kuiperi hajusketas irdobjektid vöö. Hajusketas. Irdobjektid. Veel kaugemal, ca au, tõenäoliselt komeetide pilv, mida nimetatakse enamasti oorti pilveks, aga mille olemasolu pakkus esimesena välja ernst öpik aastal öpiku oorti pilv. Ernst julius öpik eesti astronoom. (Vaata: Pilt 22) (Vaata: Pilt 23) Komeedid. Tuum. Kooma. Saba ioonsaba ja tolmusaba. Vr ng komeedi churyumov gerasimenko tuuma lähivaade pigem icy dirtball. Kui komeedituum läheneb päikesele ca au hakkavad jää ja muud tahked osakesed sublimeeruma tahkest olekust gaasilisse tekib kooma gaasi tolmupilv, mõõtmed võivad ulatuda kümnetesse ja sadadesse tuhandetesse kilomeetritesse. Päikesetuul hakkab osakesi koomast välja suruma loonsaba ehk gaasisaba on alati suunatud päikesest eemale tolmusaba raskemad osakesed kaldub veidi kõrvale eea cii dust tail dusttail gas teil dust trail. Päikesetuul hakkab osakesi koomast välja suruma. Loonsaba ehk gaasisaba on alati suunatud päikesest eemale. Komeetide orbiidid. Lühiperioodilised. Encke tüüpi. Lähemal kui jupiteri orbiit, mõni aasta, ekliptika tasandi lähedal. Jupiteri perekond. Jupiteri orbiidi ümbruses, alla aasta, võivad tiirelda ekliptika tasandi suhtes suure nurga all. Pärinevad kentauridest saturni ja neptuuni orbiitide vahel ning kuiperi vööst, aastat. Halley tüüpi. Pikaperioodilised. Tüüpilised lühi ja pikaperioodiliste komeetide orbiidid. (Vaata: Pilt 24) Asteroidid ehk väikeplaneedid. Tiirlevad ümber päikese enamasti marsi ja jupiteri orbiitide vahel asteroidide vöös au. Masti vel vi kd ita ka trojan jupiter. Troojalased jupiterist umbes kraadi ees ja tagapool. Maa lähedased periheel au apollo amor ja ateena tüüpi. (Vaata: Pilt 25) Esimese ja suurima km asteroidi ceres avastas giuseppe piazzi jaanuaril. Praegu loetakse ceres kääbusplaneediks. Asteroidide põhitüübid keemilise koostise ja peegeldusvõime järgi. Carbonaceous süsinik tüüpi, kõige tumedamad. Ca. Silicate räni tüüpi. Ca. Ca. Metallic metallilised ni, fe. Eros vesta. Meteoroid planeetidevaheline taevakeha mõõtmetega um mm. Meteoor maa atmosfääri sisenev ja ärapõlev meteoroid või väike asteroid, rahvasuus langev täht suuremaid nimetatakse boliidideks või tulekeradeks. Meteoriit maa pinnale jõudnud meteoroid või asteroid. Kivi raud ja segameteoriidid. (Vaata: Pilt 26) (Vaata: Pilt 27) (Vaata: Pilt 28) (Vaata: Pilt 29) Meie päikesesüsteem on miljardit aastat vana. Mass kokku päikese massi. Järgmine lähim planeedisüsteem tähe proxima centauri juures, valgusaasta kaugusel. (Vaata: Pilt 30) \n"
     ]
    }
   ],
   "source": [
    "skipped = getSkippedSlides(skip_slides)\n",
    "text, pictures = getContent(filename, language, skipped)\n",
    "print(text)"
   ]
  },
  {
   "cell_type": "code",
   "execution_count": null,
   "id": "1414a2a5",
   "metadata": {},
   "outputs": [],
   "source": []
  }
 ],
 "metadata": {
  "kernelspec": {
   "display_name": "Python 3 (ipykernel)",
   "language": "python",
   "name": "python3"
  },
  "language_info": {
   "codemirror_mode": {
    "name": "ipython",
    "version": 3
   },
   "file_extension": ".py",
   "mimetype": "text/x-python",
   "name": "python",
   "nbconvert_exporter": "python",
   "pygments_lexer": "ipython3",
   "version": "3.8.10"
  }
 },
 "nbformat": 4,
 "nbformat_minor": 5
}
